{
 "cells": [
  {
   "cell_type": "code",
   "execution_count": 1,
   "metadata": {},
   "outputs": [],
   "source": [
    "import pandas as pd\n",
    "import numpy as np\n",
    "import matplotlib.pyplot as plt\n",
    "import solve_for_masses as em\n",
    "import mass_loss as ms\n",
    "from numpy.random import normal\n",
    "%matplotlib inline"
   ]
  },
  {
   "cell_type": "markdown",
   "metadata": {},
   "source": [
    "This is just a re-write of the Kepler-36 model for TOI-270c\n",
    "\n",
    "To start with we need to make some basic choices. First we need to assume the composition of the solid cores. This uses the Fortney et al. (2007, ApJ 659 1661) mass-radius relation. They can either be iron-rock or water-rock (both the iron fraction and ice fraction cannot be non-zero). "
   ]
  },
  {
   "cell_type": "code",
   "execution_count": 2,
   "metadata": {},
   "outputs": [],
   "source": [
    "Xiron = 1./3.\n",
    "Xice = 0."
   ]
  },
  {
   "cell_type": "markdown",
   "metadata": {},
   "source": [
    "As discussed in the paper (Owen & Campos Estrada, 2020), one needs to choose a Kelvin-Helmholtz timescale for the H/He atmospheres at which to do the comparision (i.e. at what age is mass-loss important), the answer is very weakly dependent on this value, here we pick the standard value of 100 Myr."
   ]
  },
  {
   "cell_type": "code",
   "execution_count": 3,
   "metadata": {},
   "outputs": [],
   "source": [
    "Tkh_Myr=100."
   ]
  },
  {
   "cell_type": "markdown",
   "metadata": {},
   "source": [
    "Now we input the planetary and stellar parameters and their errors from the Van Eylen paper."
   ]
  },
  {
   "cell_type": "code",
   "execution_count": 4,
   "metadata": {},
   "outputs": [],
   "source": [
    "K36s_M = 0.386 # stellar mass,  solar masses\n",
    "K36s_Mer = 0.008 # stellar mass error, solar masses\n",
    "K36s_Teff = 3506 # Stellar effective temperature, K\n",
    "K36s_Teffer = 70 # stellar effective temperature error, K\n",
    "K36s_R = 0.378 # stellar radius, solar radii - note we should really use the MS radii but this is and example.\n",
    "K36s_Rer=0.011 # stellar radius error, solar radii \n",
    "K36s_age=5000 # stellar age, Myr\n",
    "K36s_age_er=1000. #stellar age error, Myr\n",
    "\n",
    "#radius in earth unit and period in days + errors for planet b\n",
    "K36b_R = 1.206\n",
    "K36b_Rer=0.039\n",
    "K36b_P = 3.3601538\n",
    "K36b_Per = 0.0000048 # make period errors symmetric\n",
    "\n",
    "#radius in earth unit and period in days + errors for planet c\n",
    "K36c_R = 2.133\n",
    "K36c_Rer=0.058\n",
    "K36c_P = 11.379573\n",
    "K36c_Per = 0.000013"
   ]
  },
  {
   "cell_type": "markdown",
   "metadata": {},
   "source": [
    "Now do the calculation for the minimum mass of TOI-270d to be consistent with photoevaporation assuming the mean values for all parameters."
   ]
  },
  {
   "cell_type": "code",
   "execution_count": 5,
   "metadata": {},
   "outputs": [
    {
     "name": "stdout",
     "output_type": "stream",
     "text": [
      "0.5329044209085879 Mearth\n"
     ]
    },
    {
     "name": "stderr",
     "output_type": "stream",
     "text": [
      "/home/jeowen/anaconda3/lib/python3.8/site-packages/numpy/core/fromnumeric.py:87: VisibleDeprecationWarning: Creating an ndarray from ragged nested sequences (which is a list-or-tuple of lists-or-tuples-or ndarrays with different lengths or shapes) is deprecated. If you meant to do this, you must specify 'dtype=object' when creating the ndarray.\n",
      "  return ufunc.reduce(obj, axis, dtype, out, **passkwargs)\n"
     ]
    }
   ],
   "source": [
    "# evaluate minimum mass for the mean value and print it\n",
    "\n",
    "system = em.psystem('Kepler36')\n",
    "system.add_planet('36b',K36b_R,K36b_Rer,K36b_P,K36b_Per)\n",
    "system.add_planet('36c',K36c_R,K36c_Rer,K36c_P,K36c_Per)\n",
    "system.star.mass=K36s_M\n",
    "system.star.radius=K36s_R\n",
    "system.star.Teff=K36s_Teff\n",
    "system.star.age = K36s_age\n",
    "system.update_planet_info()\n",
    "system.above_or_below_valley()\n",
    "system.mass_rocky(Xiron,Xice)\n",
    "\n",
    "ms.find_hardest_rocky(system,Tkh_Myr,Xiron,Xice)\n",
    "\n",
    "Mout, flag = ms.min_mass_gaseous(system.planets[0],system.planets[1],Tkh_Myr,Xiron,Xice,system.star.age)\n",
    "Mmedian = np.copy(Mout)\n",
    "\n",
    "print(Mmedian,'Mearth')"
   ]
  },
  {
   "cell_type": "markdown",
   "metadata": {},
   "source": [
    "However, given the stellar and planetary parameters contain errors these must be included, therefore we assume the errors are gaussian and randonly sample them. Here we use 1000 samples, but a value should be chosen such that the upper-limit is converged.  "
   ]
  },
  {
   "cell_type": "code",
   "execution_count": 6,
   "metadata": {},
   "outputs": [],
   "source": [
    "Mout_error= np.zeros(1000)\n",
    "flag_out = np.zeros(1000,dtype=np.int8)\n",
    "\n",
    "for i in range(np.size(Mout_error)):\n",
    "    \n",
    "    K36b_R_use = normal(K36b_R,K36b_Rer,1)\n",
    "    K36b_P_use = normal(K36b_P,K36b_Per,1)\n",
    "    \n",
    "    K36c_R_use = normal(K36c_R,K36c_Rer,1)\n",
    "    K36c_P_use = normal(K36c_P,K36c_Per,1)\n",
    "    \n",
    "    system = em.psystem('Kepler36_%d' %i)\n",
    "    system.add_planet('36b',K36b_R_use,K36b_Rer,K36b_P_use,K36b_Per)\n",
    "    system.add_planet('36c',K36c_R_use,K36c_Rer,K36c_P_use,K36c_Per)\n",
    "    system.star.mass=normal(K36s_M,K36s_Mer,1)\n",
    "    system.star.radius=normal(K36s_R,K36s_Rer,1)\n",
    "    system.star.Teff=normal(K36s_Teff,K36s_Teffer,1)\n",
    "    system.star.age = normal(K36s_age,K36s_age_er,1)\n",
    "    system.update_planet_info()\n",
    "    system.above_or_below_valley()\n",
    "    system.mass_rocky(Xiron,Xice)\n",
    "    \n",
    "    ms.find_hardest_rocky(system,Tkh_Myr,Xiron,Xice)\n",
    "\n",
    "    Mout, flag = ms.min_mass_gaseous(system.planets[0],system.planets[1],Tkh_Myr,Xiron,Xice,system.star.age)\n",
    "    \n",
    "    Mout_error[i] = Mout\n",
    "    flag_out[i]=flag"
   ]
  },
  {
   "cell_type": "markdown",
   "metadata": {},
   "source": [
    "Now plot the resulting distrubtion and calculate the 95% upper-limit, the 95% upperlimit is plotted as a dashed line, the actual measured mass is plotted as the dotted line. This indicates (as known from previous work - Lopez & Fortney 2013, Owen & Morton 2016) that Kepler-36 is consistent with the photoevaporation model. The value to quote, as we are concerned with the minimum mass to be consistent is something like the 95% upper-limit, not the mean or meadian value. "
   ]
  },
  {
   "cell_type": "code",
   "execution_count": 7,
   "metadata": {},
   "outputs": [
    {
     "name": "stdout",
     "output_type": "stream",
     "text": [
      "The 95% upper limit to be consistent with photoevaporation is\n",
      "0.44307523460445236 Mearth\n"
     ]
    },
    {
     "data": {
      "image/png": "[encoded data removed]",
      "text/plain": [
       "<Figure size 432x288 with 1 Axes>"
      ]
     },
     "metadata": {
      "needs_background": "light"
     },
     "output_type": "display_data"
    }
   ],
   "source": [
    "plt.hist(Mout_error,bins=30,lw=2)\n",
    "plt.plot([(np.percentile(Mout_error,5.)),(np.percentile(Mout_error,5.))],[0.,1.],'--',color='k')\n",
    "plt.ylabel('Frequency',fontsize=18)\n",
    "plt.xlabel(r'Minimum Core Mass [M$_\\oplus$]',fontsize=18)\n",
    "print('The 95% upper limit to be consistent with photoevaporation is')\n",
    "print((np.percentile(Mout_error,5.)),'Mearth')"
   ]
  },
  {
   "cell_type": "code",
   "execution_count": null,
   "metadata": {},
   "outputs": [],
   "source": []
  }
 ],
 "metadata": {
  "kernelspec": {
   "display_name": "Python 3",
   "language": "python",
   "name": "python3"
  },
  "language_info": {
   "codemirror_mode": {
    "name": "ipython",
    "version": 3
   },
   "file_extension": ".py",
   "mimetype": "text/x-python",
   "name": "python",
   "nbconvert_exporter": "python",
   "pygments_lexer": "ipython3",
   "version": "3.8.5"
  }
 },
 "nbformat": 4,
 "nbformat_minor": 2
}
